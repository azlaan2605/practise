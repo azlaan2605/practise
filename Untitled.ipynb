{
 "cells": [
  {
   "cell_type": "code",
   "execution_count": 70,
   "id": "af177f50",
   "metadata": {},
   "outputs": [],
   "source": [
    "import numpy as np\n",
    "import pandas as pd"
   ]
  },
  {
   "cell_type": "code",
   "execution_count": 74,
   "id": "ec950cd7",
   "metadata": {},
   "outputs": [],
   "source": [
    "s=np.random.rand(5,4)"
   ]
  },
  {
   "cell_type": "code",
   "execution_count": 75,
   "id": "e098487f",
   "metadata": {},
   "outputs": [
    {
     "data": {
      "text/plain": [
       "array([[0.92976227, 0.12462889, 0.46021639, 0.47636131],\n",
       "       [0.77733933, 0.95759296, 0.17318277, 0.92255096],\n",
       "       [0.339458  , 0.11577294, 0.62533066, 0.29515151],\n",
       "       [0.28671299, 0.67710897, 0.68049657, 0.79950284],\n",
       "       [0.9409106 , 0.66557815, 0.21097911, 0.80450337]])"
      ]
     },
     "execution_count": 75,
     "metadata": {},
     "output_type": "execute_result"
    }
   ],
   "source": [
    "s"
   ]
  },
  {
   "cell_type": "code",
   "execution_count": 79,
   "id": "f6479402",
   "metadata": {},
   "outputs": [],
   "source": [
    "aa=pd.DataFrame(s,index='A B C D E'.split(),columns='W X Y Z'.split())"
   ]
  },
  {
   "cell_type": "code",
   "execution_count": 80,
   "id": "ad4bf6f2",
   "metadata": {},
   "outputs": [
    {
     "data": {
      "text/html": [
       "<div>\n",
       "<style scoped>\n",
       "    .dataframe tbody tr th:only-of-type {\n",
       "        vertical-align: middle;\n",
       "    }\n",
       "\n",
       "    .dataframe tbody tr th {\n",
       "        vertical-align: top;\n",
       "    }\n",
       "\n",
       "    .dataframe thead th {\n",
       "        text-align: right;\n",
       "    }\n",
       "</style>\n",
       "<table border=\"1\" class=\"dataframe\">\n",
       "  <thead>\n",
       "    <tr style=\"text-align: right;\">\n",
       "      <th></th>\n",
       "      <th>W</th>\n",
       "      <th>X</th>\n",
       "      <th>Y</th>\n",
       "      <th>Z</th>\n",
       "    </tr>\n",
       "  </thead>\n",
       "  <tbody>\n",
       "    <tr>\n",
       "      <th>A</th>\n",
       "      <td>0.929762</td>\n",
       "      <td>0.124629</td>\n",
       "      <td>0.460216</td>\n",
       "      <td>0.476361</td>\n",
       "    </tr>\n",
       "    <tr>\n",
       "      <th>B</th>\n",
       "      <td>0.777339</td>\n",
       "      <td>0.957593</td>\n",
       "      <td>0.173183</td>\n",
       "      <td>0.922551</td>\n",
       "    </tr>\n",
       "    <tr>\n",
       "      <th>C</th>\n",
       "      <td>0.339458</td>\n",
       "      <td>0.115773</td>\n",
       "      <td>0.625331</td>\n",
       "      <td>0.295152</td>\n",
       "    </tr>\n",
       "    <tr>\n",
       "      <th>D</th>\n",
       "      <td>0.286713</td>\n",
       "      <td>0.677109</td>\n",
       "      <td>0.680497</td>\n",
       "      <td>0.799503</td>\n",
       "    </tr>\n",
       "    <tr>\n",
       "      <th>E</th>\n",
       "      <td>0.940911</td>\n",
       "      <td>0.665578</td>\n",
       "      <td>0.210979</td>\n",
       "      <td>0.804503</td>\n",
       "    </tr>\n",
       "  </tbody>\n",
       "</table>\n",
       "</div>"
      ],
      "text/plain": [
       "          W         X         Y         Z\n",
       "A  0.929762  0.124629  0.460216  0.476361\n",
       "B  0.777339  0.957593  0.173183  0.922551\n",
       "C  0.339458  0.115773  0.625331  0.295152\n",
       "D  0.286713  0.677109  0.680497  0.799503\n",
       "E  0.940911  0.665578  0.210979  0.804503"
      ]
     },
     "execution_count": 80,
     "metadata": {},
     "output_type": "execute_result"
    }
   ],
   "source": [
    "aa"
   ]
  },
  {
   "cell_type": "code",
   "execution_count": 85,
   "id": "5354423a",
   "metadata": {},
   "outputs": [
    {
     "data": {
      "text/html": [
       "<div>\n",
       "<style scoped>\n",
       "    .dataframe tbody tr th:only-of-type {\n",
       "        vertical-align: middle;\n",
       "    }\n",
       "\n",
       "    .dataframe tbody tr th {\n",
       "        vertical-align: top;\n",
       "    }\n",
       "\n",
       "    .dataframe thead th {\n",
       "        text-align: right;\n",
       "    }\n",
       "</style>\n",
       "<table border=\"1\" class=\"dataframe\">\n",
       "  <thead>\n",
       "    <tr style=\"text-align: right;\">\n",
       "      <th></th>\n",
       "      <th>W</th>\n",
       "      <th>Z</th>\n",
       "    </tr>\n",
       "  </thead>\n",
       "  <tbody>\n",
       "    <tr>\n",
       "      <th>A</th>\n",
       "      <td>0.929762</td>\n",
       "      <td>0.476361</td>\n",
       "    </tr>\n",
       "    <tr>\n",
       "      <th>B</th>\n",
       "      <td>0.777339</td>\n",
       "      <td>0.922551</td>\n",
       "    </tr>\n",
       "    <tr>\n",
       "      <th>C</th>\n",
       "      <td>0.339458</td>\n",
       "      <td>0.295152</td>\n",
       "    </tr>\n",
       "    <tr>\n",
       "      <th>D</th>\n",
       "      <td>0.286713</td>\n",
       "      <td>0.799503</td>\n",
       "    </tr>\n",
       "    <tr>\n",
       "      <th>E</th>\n",
       "      <td>0.940911</td>\n",
       "      <td>0.804503</td>\n",
       "    </tr>\n",
       "  </tbody>\n",
       "</table>\n",
       "</div>"
      ],
      "text/plain": [
       "          W         Z\n",
       "A  0.929762  0.476361\n",
       "B  0.777339  0.922551\n",
       "C  0.339458  0.295152\n",
       "D  0.286713  0.799503\n",
       "E  0.940911  0.804503"
      ]
     },
     "execution_count": 85,
     "metadata": {},
     "output_type": "execute_result"
    }
   ],
   "source": [
    "aa[['W','Z']]"
   ]
  },
  {
   "cell_type": "code",
   "execution_count": 89,
   "id": "73549703",
   "metadata": {},
   "outputs": [],
   "source": [
    "aa['new']=aa['Z']+aa['Y']"
   ]
  },
  {
   "cell_type": "code",
   "execution_count": 90,
   "id": "633dd425",
   "metadata": {},
   "outputs": [
    {
     "data": {
      "text/html": [
       "<div>\n",
       "<style scoped>\n",
       "    .dataframe tbody tr th:only-of-type {\n",
       "        vertical-align: middle;\n",
       "    }\n",
       "\n",
       "    .dataframe tbody tr th {\n",
       "        vertical-align: top;\n",
       "    }\n",
       "\n",
       "    .dataframe thead th {\n",
       "        text-align: right;\n",
       "    }\n",
       "</style>\n",
       "<table border=\"1\" class=\"dataframe\">\n",
       "  <thead>\n",
       "    <tr style=\"text-align: right;\">\n",
       "      <th></th>\n",
       "      <th>W</th>\n",
       "      <th>X</th>\n",
       "      <th>Y</th>\n",
       "      <th>Z</th>\n",
       "      <th>new</th>\n",
       "    </tr>\n",
       "  </thead>\n",
       "  <tbody>\n",
       "    <tr>\n",
       "      <th>A</th>\n",
       "      <td>0.929762</td>\n",
       "      <td>0.124629</td>\n",
       "      <td>0.460216</td>\n",
       "      <td>0.476361</td>\n",
       "      <td>0.936578</td>\n",
       "    </tr>\n",
       "    <tr>\n",
       "      <th>B</th>\n",
       "      <td>0.777339</td>\n",
       "      <td>0.957593</td>\n",
       "      <td>0.173183</td>\n",
       "      <td>0.922551</td>\n",
       "      <td>1.095734</td>\n",
       "    </tr>\n",
       "    <tr>\n",
       "      <th>C</th>\n",
       "      <td>0.339458</td>\n",
       "      <td>0.115773</td>\n",
       "      <td>0.625331</td>\n",
       "      <td>0.295152</td>\n",
       "      <td>0.920482</td>\n",
       "    </tr>\n",
       "    <tr>\n",
       "      <th>D</th>\n",
       "      <td>0.286713</td>\n",
       "      <td>0.677109</td>\n",
       "      <td>0.680497</td>\n",
       "      <td>0.799503</td>\n",
       "      <td>1.479999</td>\n",
       "    </tr>\n",
       "    <tr>\n",
       "      <th>E</th>\n",
       "      <td>0.940911</td>\n",
       "      <td>0.665578</td>\n",
       "      <td>0.210979</td>\n",
       "      <td>0.804503</td>\n",
       "      <td>1.015482</td>\n",
       "    </tr>\n",
       "  </tbody>\n",
       "</table>\n",
       "</div>"
      ],
      "text/plain": [
       "          W         X         Y         Z       new\n",
       "A  0.929762  0.124629  0.460216  0.476361  0.936578\n",
       "B  0.777339  0.957593  0.173183  0.922551  1.095734\n",
       "C  0.339458  0.115773  0.625331  0.295152  0.920482\n",
       "D  0.286713  0.677109  0.680497  0.799503  1.479999\n",
       "E  0.940911  0.665578  0.210979  0.804503  1.015482"
      ]
     },
     "execution_count": 90,
     "metadata": {},
     "output_type": "execute_result"
    }
   ],
   "source": [
    "aa"
   ]
  },
  {
   "cell_type": "code",
   "execution_count": 94,
   "id": "ec58b862",
   "metadata": {},
   "outputs": [
    {
     "data": {
      "text/plain": [
       "W      0.339458\n",
       "X      0.115773\n",
       "Y      0.625331\n",
       "Z      0.295152\n",
       "new    0.920482\n",
       "Name: C, dtype: float64"
      ]
     },
     "execution_count": 94,
     "metadata": {},
     "output_type": "execute_result"
    }
   ],
   "source": [
    "aa.iloc[2]"
   ]
  },
  {
   "cell_type": "code",
   "execution_count": 95,
   "id": "ed8501f4",
   "metadata": {},
   "outputs": [
    {
     "data": {
      "text/plain": [
       "(5, 5)"
      ]
     },
     "execution_count": 95,
     "metadata": {},
     "output_type": "execute_result"
    }
   ],
   "source": [
    "aa.shape"
   ]
  },
  {
   "cell_type": "code",
   "execution_count": 100,
   "id": "67cda42c",
   "metadata": {},
   "outputs": [
    {
     "data": {
      "text/html": [
       "<div>\n",
       "<style scoped>\n",
       "    .dataframe tbody tr th:only-of-type {\n",
       "        vertical-align: middle;\n",
       "    }\n",
       "\n",
       "    .dataframe tbody tr th {\n",
       "        vertical-align: top;\n",
       "    }\n",
       "\n",
       "    .dataframe thead th {\n",
       "        text-align: right;\n",
       "    }\n",
       "</style>\n",
       "<table border=\"1\" class=\"dataframe\">\n",
       "  <thead>\n",
       "    <tr style=\"text-align: right;\">\n",
       "      <th></th>\n",
       "      <th>W</th>\n",
       "      <th>X</th>\n",
       "      <th>Y</th>\n",
       "      <th>Z</th>\n",
       "      <th>new</th>\n",
       "    </tr>\n",
       "  </thead>\n",
       "  <tbody>\n",
       "    <tr>\n",
       "      <th>A</th>\n",
       "      <td>NaN</td>\n",
       "      <td>NaN</td>\n",
       "      <td>NaN</td>\n",
       "      <td>NaN</td>\n",
       "      <td>NaN</td>\n",
       "    </tr>\n",
       "    <tr>\n",
       "      <th>B</th>\n",
       "      <td>NaN</td>\n",
       "      <td>NaN</td>\n",
       "      <td>NaN</td>\n",
       "      <td>NaN</td>\n",
       "      <td>1.095734</td>\n",
       "    </tr>\n",
       "    <tr>\n",
       "      <th>C</th>\n",
       "      <td>NaN</td>\n",
       "      <td>NaN</td>\n",
       "      <td>NaN</td>\n",
       "      <td>NaN</td>\n",
       "      <td>NaN</td>\n",
       "    </tr>\n",
       "    <tr>\n",
       "      <th>D</th>\n",
       "      <td>NaN</td>\n",
       "      <td>NaN</td>\n",
       "      <td>NaN</td>\n",
       "      <td>NaN</td>\n",
       "      <td>1.479999</td>\n",
       "    </tr>\n",
       "    <tr>\n",
       "      <th>E</th>\n",
       "      <td>NaN</td>\n",
       "      <td>NaN</td>\n",
       "      <td>NaN</td>\n",
       "      <td>NaN</td>\n",
       "      <td>1.015482</td>\n",
       "    </tr>\n",
       "  </tbody>\n",
       "</table>\n",
       "</div>"
      ],
      "text/plain": [
       "    W   X   Y   Z       new\n",
       "A NaN NaN NaN NaN       NaN\n",
       "B NaN NaN NaN NaN  1.095734\n",
       "C NaN NaN NaN NaN       NaN\n",
       "D NaN NaN NaN NaN  1.479999\n",
       "E NaN NaN NaN NaN  1.015482"
      ]
     },
     "execution_count": 100,
     "metadata": {},
     "output_type": "execute_result"
    }
   ],
   "source": [
    "aa[aa>1]"
   ]
  },
  {
   "cell_type": "code",
   "execution_count": 102,
   "id": "8a15a47f",
   "metadata": {},
   "outputs": [
    {
     "data": {
      "text/html": [
       "<div>\n",
       "<style scoped>\n",
       "    .dataframe tbody tr th:only-of-type {\n",
       "        vertical-align: middle;\n",
       "    }\n",
       "\n",
       "    .dataframe tbody tr th {\n",
       "        vertical-align: top;\n",
       "    }\n",
       "\n",
       "    .dataframe thead th {\n",
       "        text-align: right;\n",
       "    }\n",
       "</style>\n",
       "<table border=\"1\" class=\"dataframe\">\n",
       "  <thead>\n",
       "    <tr style=\"text-align: right;\">\n",
       "      <th></th>\n",
       "      <th>W</th>\n",
       "      <th>X</th>\n",
       "      <th>Y</th>\n",
       "      <th>Z</th>\n",
       "      <th>new</th>\n",
       "    </tr>\n",
       "  </thead>\n",
       "  <tbody>\n",
       "    <tr>\n",
       "      <th>B</th>\n",
       "      <td>0.777339</td>\n",
       "      <td>0.957593</td>\n",
       "      <td>0.173183</td>\n",
       "      <td>0.922551</td>\n",
       "      <td>1.095734</td>\n",
       "    </tr>\n",
       "    <tr>\n",
       "      <th>D</th>\n",
       "      <td>0.286713</td>\n",
       "      <td>0.677109</td>\n",
       "      <td>0.680497</td>\n",
       "      <td>0.799503</td>\n",
       "      <td>1.479999</td>\n",
       "    </tr>\n",
       "    <tr>\n",
       "      <th>E</th>\n",
       "      <td>0.940911</td>\n",
       "      <td>0.665578</td>\n",
       "      <td>0.210979</td>\n",
       "      <td>0.804503</td>\n",
       "      <td>1.015482</td>\n",
       "    </tr>\n",
       "  </tbody>\n",
       "</table>\n",
       "</div>"
      ],
      "text/plain": [
       "          W         X         Y         Z       new\n",
       "B  0.777339  0.957593  0.173183  0.922551  1.095734\n",
       "D  0.286713  0.677109  0.680497  0.799503  1.479999\n",
       "E  0.940911  0.665578  0.210979  0.804503  1.015482"
      ]
     },
     "execution_count": 102,
     "metadata": {},
     "output_type": "execute_result"
    }
   ],
   "source": [
    "aa[aa['new']>1]"
   ]
  },
  {
   "cell_type": "code",
   "execution_count": 106,
   "id": "7dfd41a0",
   "metadata": {},
   "outputs": [
    {
     "data": {
      "text/html": [
       "<div>\n",
       "<style scoped>\n",
       "    .dataframe tbody tr th:only-of-type {\n",
       "        vertical-align: middle;\n",
       "    }\n",
       "\n",
       "    .dataframe tbody tr th {\n",
       "        vertical-align: top;\n",
       "    }\n",
       "\n",
       "    .dataframe thead th {\n",
       "        text-align: right;\n",
       "    }\n",
       "</style>\n",
       "<table border=\"1\" class=\"dataframe\">\n",
       "  <thead>\n",
       "    <tr style=\"text-align: right;\">\n",
       "      <th></th>\n",
       "      <th>index</th>\n",
       "      <th>W</th>\n",
       "      <th>X</th>\n",
       "      <th>Y</th>\n",
       "      <th>Z</th>\n",
       "      <th>new</th>\n",
       "    </tr>\n",
       "  </thead>\n",
       "  <tbody>\n",
       "    <tr>\n",
       "      <th>0</th>\n",
       "      <td>A</td>\n",
       "      <td>0.929762</td>\n",
       "      <td>0.124629</td>\n",
       "      <td>0.460216</td>\n",
       "      <td>0.476361</td>\n",
       "      <td>0.936578</td>\n",
       "    </tr>\n",
       "    <tr>\n",
       "      <th>1</th>\n",
       "      <td>B</td>\n",
       "      <td>0.777339</td>\n",
       "      <td>0.957593</td>\n",
       "      <td>0.173183</td>\n",
       "      <td>0.922551</td>\n",
       "      <td>1.095734</td>\n",
       "    </tr>\n",
       "    <tr>\n",
       "      <th>2</th>\n",
       "      <td>C</td>\n",
       "      <td>0.339458</td>\n",
       "      <td>0.115773</td>\n",
       "      <td>0.625331</td>\n",
       "      <td>0.295152</td>\n",
       "      <td>0.920482</td>\n",
       "    </tr>\n",
       "    <tr>\n",
       "      <th>3</th>\n",
       "      <td>D</td>\n",
       "      <td>0.286713</td>\n",
       "      <td>0.677109</td>\n",
       "      <td>0.680497</td>\n",
       "      <td>0.799503</td>\n",
       "      <td>1.479999</td>\n",
       "    </tr>\n",
       "    <tr>\n",
       "      <th>4</th>\n",
       "      <td>E</td>\n",
       "      <td>0.940911</td>\n",
       "      <td>0.665578</td>\n",
       "      <td>0.210979</td>\n",
       "      <td>0.804503</td>\n",
       "      <td>1.015482</td>\n",
       "    </tr>\n",
       "  </tbody>\n",
       "</table>\n",
       "</div>"
      ],
      "text/plain": [
       "  index         W         X         Y         Z       new\n",
       "0     A  0.929762  0.124629  0.460216  0.476361  0.936578\n",
       "1     B  0.777339  0.957593  0.173183  0.922551  1.095734\n",
       "2     C  0.339458  0.115773  0.625331  0.295152  0.920482\n",
       "3     D  0.286713  0.677109  0.680497  0.799503  1.479999\n",
       "4     E  0.940911  0.665578  0.210979  0.804503  1.015482"
      ]
     },
     "execution_count": 106,
     "metadata": {},
     "output_type": "execute_result"
    }
   ],
   "source": [
    "aa.reset_index()"
   ]
  },
  {
   "cell_type": "code",
   "execution_count": 107,
   "id": "9497ff36",
   "metadata": {},
   "outputs": [
    {
     "data": {
      "text/html": [
       "<div>\n",
       "<style scoped>\n",
       "    .dataframe tbody tr th:only-of-type {\n",
       "        vertical-align: middle;\n",
       "    }\n",
       "\n",
       "    .dataframe tbody tr th {\n",
       "        vertical-align: top;\n",
       "    }\n",
       "\n",
       "    .dataframe thead th {\n",
       "        text-align: right;\n",
       "    }\n",
       "</style>\n",
       "<table border=\"1\" class=\"dataframe\">\n",
       "  <thead>\n",
       "    <tr style=\"text-align: right;\">\n",
       "      <th></th>\n",
       "      <th>W</th>\n",
       "      <th>X</th>\n",
       "      <th>Z</th>\n",
       "      <th>new</th>\n",
       "    </tr>\n",
       "    <tr>\n",
       "      <th>Y</th>\n",
       "      <th></th>\n",
       "      <th></th>\n",
       "      <th></th>\n",
       "      <th></th>\n",
       "    </tr>\n",
       "  </thead>\n",
       "  <tbody>\n",
       "    <tr>\n",
       "      <th>0.460216</th>\n",
       "      <td>0.929762</td>\n",
       "      <td>0.124629</td>\n",
       "      <td>0.476361</td>\n",
       "      <td>0.936578</td>\n",
       "    </tr>\n",
       "    <tr>\n",
       "      <th>0.173183</th>\n",
       "      <td>0.777339</td>\n",
       "      <td>0.957593</td>\n",
       "      <td>0.922551</td>\n",
       "      <td>1.095734</td>\n",
       "    </tr>\n",
       "    <tr>\n",
       "      <th>0.625331</th>\n",
       "      <td>0.339458</td>\n",
       "      <td>0.115773</td>\n",
       "      <td>0.295152</td>\n",
       "      <td>0.920482</td>\n",
       "    </tr>\n",
       "    <tr>\n",
       "      <th>0.680497</th>\n",
       "      <td>0.286713</td>\n",
       "      <td>0.677109</td>\n",
       "      <td>0.799503</td>\n",
       "      <td>1.479999</td>\n",
       "    </tr>\n",
       "    <tr>\n",
       "      <th>0.210979</th>\n",
       "      <td>0.940911</td>\n",
       "      <td>0.665578</td>\n",
       "      <td>0.804503</td>\n",
       "      <td>1.015482</td>\n",
       "    </tr>\n",
       "  </tbody>\n",
       "</table>\n",
       "</div>"
      ],
      "text/plain": [
       "                 W         X         Z       new\n",
       "Y                                               \n",
       "0.460216  0.929762  0.124629  0.476361  0.936578\n",
       "0.173183  0.777339  0.957593  0.922551  1.095734\n",
       "0.625331  0.339458  0.115773  0.295152  0.920482\n",
       "0.680497  0.286713  0.677109  0.799503  1.479999\n",
       "0.210979  0.940911  0.665578  0.804503  1.015482"
      ]
     },
     "execution_count": 107,
     "metadata": {},
     "output_type": "execute_result"
    }
   ],
   "source": [
    "aa.set_index('Y')"
   ]
  },
  {
   "cell_type": "code",
   "execution_count": null,
   "id": "84efe288",
   "metadata": {},
   "outputs": [],
   "source": []
  }
 ],
 "metadata": {
  "kernelspec": {
   "display_name": "Python 3 (ipykernel)",
   "language": "python",
   "name": "python3"
  },
  "language_info": {
   "codemirror_mode": {
    "name": "ipython",
    "version": 3
   },
   "file_extension": ".py",
   "mimetype": "text/x-python",
   "name": "python",
   "nbconvert_exporter": "python",
   "pygments_lexer": "ipython3",
   "version": "3.9.7"
  }
 },
 "nbformat": 4,
 "nbformat_minor": 5
}
